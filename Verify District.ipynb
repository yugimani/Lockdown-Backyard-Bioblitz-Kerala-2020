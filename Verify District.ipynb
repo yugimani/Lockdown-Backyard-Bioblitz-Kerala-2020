{
 "cells": [
  {
   "cell_type": "code",
   "execution_count": 1,
   "metadata": {},
   "outputs": [],
   "source": [
    "import requests\n",
    "import json\n",
    "from __future__ import print_function\n",
    "import time\n",
    "import locationiq\n",
    "from locationiq.rest import ApiException\n",
    "from pprint import pprint\n",
    "import pandas\n",
    "import time"
   ]
  },
  {
   "cell_type": "code",
   "execution_count": 3,
   "metadata": {},
   "outputs": [],
   "source": [
    "data = pandas.read_csv('project-data-csv.csv')"
   ]
  },
  {
   "cell_type": "code",
   "execution_count": 4,
   "metadata": {},
   "outputs": [],
   "source": [
    "data['osm_district'] = \"\" # Create placeholder for new column\n",
    "data['dispute_district'] = \"\" # Create placeholder for new column\n",
    "\n",
    "configuration = locationiq.Configuration()\n",
    "# Configure API key authorization: key\n",
    "configuration.api_key['key'] = 'YOUR_API_KEY'\n",
    "# Uncomment below to setup prefix (e.g. Bearer) for API key, if needed\n",
    "# configuration.api_key_prefix['key'] = 'Bearer'\n",
    "\n",
    "# Defining host is optional and default to https://eu1.locationiq.com/v1\n",
    "configuration.host = \"https://eu1.locationiq.com/v1\"\n",
    "# Enter a context with an instance of the API client\n",
    "with locationiq.ApiClient(configuration) as api_client:\n",
    "    # Create an instance of the API class\n",
    "    api_instance = locationiq.ReverseApi(api_client)\n",
    "\n",
    "format = 'json' # str | Format to geocode. Only JSON supported for SDKs\n",
    "normalizecity = 1 # int | Normalizes village to city level data to city\n",
    "addressdetails = 1 # int | Include a breakdown of the address into elements. Defaults to 1. (optional) (default to 1)\n",
    "accept_language = 'en' # str | Preferred language order for showing search results, overrides the value specified in the Accept-Language HTTP header. Defaults to en. To use native language for the response when available, use accept-language=native (optional)\n",
    "namedetails = 0 # int | Include a list of alternative names in the results. These may include language variants, references, operator and brand. (optional)\n",
    "extratags = 0 # int | Include additional information in the result if available, e.g. wikipedia link, opening hours. (optional)\n",
    "statecode = 0 # int | Adds state or province code when available to the statecode key inside the address element. Currently supported for addresses in the USA, Canada and Australia. Defaults to 0 (optional)\n",
    "showdistance = 0 # int | Returns the straight line distance (meters) between the input location and the result's location. Value is set in the distance key of the response. Defaults to 0 [0,1] (optional)\n",
    "postaladdress = 0 # int | Returns address inside the postaladdress key, that is specifically formatted for each country. Currently supported for addresses in Germany. Defaults to 0 [0,1] (optional)\n",
    "\n",
    "for index, row in data.iterrows():\n",
    "    # print(row['coordinates_obscured'])\n",
    "    if row['coordinates_obscured'] == True:    # Obscured coordinates are not accurate, for obvious reasons\n",
    "        state_district = row['place_admin2_name']\n",
    "    elif:\n",
    "        lat = row['latitude'] # float | Latitude of the location to generate an address for.\n",
    "        lon = row['longitude'] # float | Longitude of the location to generate an address for.\n",
    "        try:\n",
    "            # Reverse Geocoding\n",
    "            api_response = api_instance.reverse(lat, lon, format, normalizecity, addressdetails=addressdetails, accept_language=accept_language, namedetails=namedetails, extratags=extratags, statecode=statecode, showdistance=showdistance, postaladdress=postaladdress)\n",
    "            # with open(\"log.txt\", \"a+\") as logfile:\n",
    "            #    pprint(api_response, logfile)\n",
    "        except ApiException as e:\n",
    "            print(\"Exception when calling ReverseApi->reverse: %s\\n\" % e)\n",
    "        if api_response.address.state_district == None:\n",
    "            state_district = api_response.address.village # OSM returns empty for district, in which case, village seem to be next reliable field\n",
    "        else:\n",
    "            state_district = api_response.address.state_district.split(\" \", 1)[0] # OSM returns \"district\" suffix for some districts. \n",
    "    data.at[index, 'osm_district'] = state_district # Record district info from OSM\n",
    "    if row['place_admin2_name'] == state_district:\n",
    "        data.at[index, 'dispute_district'] = 'no' # iNat and OSM geocoding matches\n",
    "    else:\n",
    "        data.at[index, 'dispute_district'] = 'yes' # iNat and OSM geocoding mismatches\n",
    "    time.sleep(1.005) # LocationIQ Free Tier Rate Limits: 2/sec, 60/min, 10000/day"
   ]
  },
  {
   "cell_type": "code",
   "execution_count": 5,
   "metadata": {},
   "outputs": [],
   "source": [
    "#data[['place_admin2_name', 'osm_district', 'dispute_district']]\n",
    "data.to_csv('output.csv')"
   ]
  }
 ],
 "metadata": {
  "kernelspec": {
   "display_name": "Python 3",
   "language": "python",
   "name": "python3"
  },
  "language_info": {
   "codemirror_mode": {
    "name": "ipython",
    "version": 3
   },
   "file_extension": ".py",
   "mimetype": "text/x-python",
   "name": "python",
   "nbconvert_exporter": "python",
   "pygments_lexer": "ipython3",
   "version": "3.8.5"
  }
 },
 "nbformat": 4,
 "nbformat_minor": 4
}
